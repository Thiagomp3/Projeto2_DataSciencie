{
 "cells": [
  {
   "cell_type": "markdown",
   "metadata": {},
   "source": [
    "# Projeto 2 - Ciência dos Dados"
   ]
  },
  {
   "cell_type": "markdown",
   "metadata": {},
   "source": [
    "**Nome: Thiago Maitan Pegorer**"
   ]
  },
  {
   "cell_type": "markdown",
   "metadata": {},
   "source": [
    "**Nome: Raphael Jacob Butori**"
   ]
  },
  {
   "cell_type": "markdown",
   "metadata": {},
   "source": [
    "## Classificador automático de sentimento"
   ]
  },
  {
   "cell_type": "markdown",
   "metadata": {},
   "source": [
    "### Preparando o ambiente no jupyter:"
   ]
  },
  {
   "cell_type": "code",
   "execution_count": 116,
   "metadata": {},
   "outputs": [],
   "source": [
    "%%capture\n",
    "\n",
    "#Instalando o tweepy\n",
    "!pip install tweepy"
   ]
  },
  {
   "cell_type": "code",
   "execution_count": 117,
   "metadata": {},
   "outputs": [],
   "source": [
    "import tweepy\n",
    "import math\n",
    "import os.path\n",
    "import pandas as pd\n",
    "import json\n",
    "from random import shuffle\n"
   ]
  },
  {
   "cell_type": "markdown",
   "metadata": {},
   "source": [
    "## Autenticando no Twitter"
   ]
  },
  {
   "cell_type": "code",
   "execution_count": 118,
   "metadata": {},
   "outputs": [],
   "source": [
    "#Dados de autenticação do twitter:\n",
    "\n",
    "#Coloque aqui o identificador da conta no twitter: @pegorer_thi\n",
    "\n",
    "#leitura do arquivo no formato JSON\n",
    "with open('auth.pass') as fp:    \n",
    "    data = json.load(fp)\n",
    "\n",
    "#Configurando a biblioteca. Não modificar\n",
    "auth = tweepy.OAuthHandler(data['consumer_key'], data['consumer_secret'])\n",
    "auth.set_access_token(data['access_token'], data['access_token_secret'])"
   ]
  },
  {
   "cell_type": "markdown",
   "metadata": {},
   "source": [
    "# Projeto"
   ]
  },
  {
   "cell_type": "markdown",
   "metadata": {},
   "source": [
    "### Escolha de um produto e coleta das mensagens"
   ]
  },
  {
   "cell_type": "code",
   "execution_count": 122,
   "metadata": {},
   "outputs": [],
   "source": [
    "#Produto escolhido:\n",
    "produto = 'Samsung'\n",
    "\n",
    "#Quantidade mínima de mensagens capturadas:\n",
    "n = 500\n",
    "#Quantidade mínima de mensagens para a base de treinamento:\n",
    "t = 300\n",
    "\n",
    "#Filtro de língua, escolha uma na tabela ISO 639-1.\n",
    "lang = 'pt'"
   ]
  },
  {
   "cell_type": "code",
   "execution_count": 123,
   "metadata": {},
   "outputs": [],
   "source": [
    "#Cria um objeto para a captura\n",
    "api = tweepy.API(auth)\n",
    "\n",
    "#Inicia a captura, para mais detalhes: ver a documentação do tweepy\n",
    "i = 1\n",
    "msgs = []\n",
    "for msg in tweepy.Cursor(api.search, q=produto, lang=lang, tweet_mode=\"extended\").items():\n",
    "    if msg.full_text.lower()[0] != 'r' and msg.full_text.lower()[1] != 't':\n",
    "        msgs.append(msg.full_text.lower())\n",
    "        i += 1\n",
    "        if i > n:\n",
    "            break\n",
    "\n",
    "#Embaralhando as mensagens para reduzir um possível viés\n",
    "shuffle(msgs)\n"
   ]
  },
  {
   "cell_type": "code",
   "execution_count": 124,
   "metadata": {},
   "outputs": [],
   "source": [
    "#Verifica se o arquivo não existe para não substituir um conjunto pronto\n",
    "if not os.path.isfile('./{0}.xlsx'.format(produto)):\n",
    "    \n",
    "    #Abre o arquivo para escrita\n",
    "    writer = pd.ExcelWriter('{0}.xlsx'.format(produto))\n",
    "\n",
    "    #divide o conjunto de mensagens em duas planilhas\n",
    "    dft = pd.DataFrame({'Treinamento' : pd.Series(msgs[:t])})\n",
    "    dft.to_excel(excel_writer = writer, sheet_name = 'Treinamento', index = False)\n",
    "\n",
    "    dfc = pd.DataFrame({'Teste' : pd.Series(msgs[t:])})\n",
    "    dfc.to_excel(excel_writer = writer, sheet_name = 'Teste', index = False)\n",
    "\n",
    "    #fecha o arquivo\n",
    "    writer.save()"
   ]
  },
  {
   "cell_type": "code",
   "execution_count": 84,
   "metadata": {},
   "outputs": [
    {
     "data": {
      "text/html": [
       "<div>\n",
       "<style scoped>\n",
       "    .dataframe tbody tr th:only-of-type {\n",
       "        vertical-align: middle;\n",
       "    }\n",
       "\n",
       "    .dataframe tbody tr th {\n",
       "        vertical-align: top;\n",
       "    }\n",
       "\n",
       "    .dataframe thead th {\n",
       "        text-align: right;\n",
       "    }\n",
       "</style>\n",
       "<table border=\"1\" class=\"dataframe\">\n",
       "  <thead>\n",
       "    <tr style=\"text-align: right;\">\n",
       "      <th></th>\n",
       "      <th>Treinamento</th>\n",
       "      <th>Classificador</th>\n",
       "    </tr>\n",
       "  </thead>\n",
       "  <tbody>\n",
       "    <tr>\n",
       "      <th>0</th>\n",
       "      <td>alerta de oferta: samsung galaxy a30 a partir ...</td>\n",
       "      <td>0</td>\n",
       "    </tr>\n",
       "    <tr>\n",
       "      <th>1</th>\n",
       "      <td>apesar de amar a samsung. vi hoje que a #xiaom...</td>\n",
       "      <td>0</td>\n",
       "    </tr>\n",
       "    <tr>\n",
       "      <th>2</th>\n",
       "      <td>odeio samsung. pqppp</td>\n",
       "      <td>1</td>\n",
       "    </tr>\n",
       "    <tr>\n",
       "      <th>3</th>\n",
       "      <td>@hearthstoneness @cissamagazine na loja tbm né...</td>\n",
       "      <td>0</td>\n",
       "    </tr>\n",
       "    <tr>\n",
       "      <th>4</th>\n",
       "      <td>tenho que comprar um celular novo mas 0 vontad...</td>\n",
       "      <td>1</td>\n",
       "    </tr>\n",
       "  </tbody>\n",
       "</table>\n",
       "</div>"
      ],
      "text/plain": [
       "                                         Treinamento  Classificador\n",
       "0  alerta de oferta: samsung galaxy a30 a partir ...              0\n",
       "1  apesar de amar a samsung. vi hoje que a #xiaom...              0\n",
       "2                               odeio samsung. pqppp              1\n",
       "3  @hearthstoneness @cissamagazine na loja tbm né...              0\n",
       "4  tenho que comprar um celular novo mas 0 vontad...              1"
      ]
     },
     "execution_count": 84,
     "metadata": {},
     "output_type": "execute_result"
    }
   ],
   "source": [
    "tw=pd.read_excel(\"Samsung.xlsx\")\n",
    "tw.head()"
   ]
  },
  {
   "cell_type": "markdown",
   "metadata": {},
   "source": [
    "### Limpando pontuação do excel"
   ]
  },
  {
   "cell_type": "code",
   "execution_count": 85,
   "metadata": {},
   "outputs": [
    {
     "data": {
      "text/html": [
       "<div>\n",
       "<style scoped>\n",
       "    .dataframe tbody tr th:only-of-type {\n",
       "        vertical-align: middle;\n",
       "    }\n",
       "\n",
       "    .dataframe tbody tr th {\n",
       "        vertical-align: top;\n",
       "    }\n",
       "\n",
       "    .dataframe thead th {\n",
       "        text-align: right;\n",
       "    }\n",
       "</style>\n",
       "<table border=\"1\" class=\"dataframe\">\n",
       "  <thead>\n",
       "    <tr style=\"text-align: right;\">\n",
       "      <th></th>\n",
       "      <th>Treinamento</th>\n",
       "      <th>Classificador</th>\n",
       "    </tr>\n",
       "  </thead>\n",
       "  <tbody>\n",
       "    <tr>\n",
       "      <th>0</th>\n",
       "      <td>alerta de oferta samsung galaxy a30 a partir d...</td>\n",
       "      <td>0</td>\n",
       "    </tr>\n",
       "    <tr>\n",
       "      <th>1</th>\n",
       "      <td>apesar de amar a samsung vi hoje que a xiaomi ...</td>\n",
       "      <td>0</td>\n",
       "    </tr>\n",
       "    <tr>\n",
       "      <th>2</th>\n",
       "      <td>odeio samsung pqppp</td>\n",
       "      <td>1</td>\n",
       "    </tr>\n",
       "    <tr>\n",
       "      <th>3</th>\n",
       "      <td>hearthstoneness cissamagazine na loja tbm né n...</td>\n",
       "      <td>0</td>\n",
       "    </tr>\n",
       "    <tr>\n",
       "      <th>4</th>\n",
       "      <td>tenho que comprar um celular novo mas 0 vontad...</td>\n",
       "      <td>1</td>\n",
       "    </tr>\n",
       "  </tbody>\n",
       "</table>\n",
       "</div>"
      ],
      "text/plain": [
       "                                         Treinamento  Classificador\n",
       "0  alerta de oferta samsung galaxy a30 a partir d...              0\n",
       "1  apesar de amar a samsung vi hoje que a xiaomi ...              0\n",
       "2                                odeio samsung pqppp              1\n",
       "3  hearthstoneness cissamagazine na loja tbm né n...              0\n",
       "4  tenho que comprar um celular novo mas 0 vontad...              1"
      ]
     },
     "execution_count": 85,
     "metadata": {},
     "output_type": "execute_result"
    }
   ],
   "source": [
    "import string\n",
    "#string punctuation contem todas as pontuacoes ja\n",
    "pontuacao = string.punctuation\n",
    "\n",
    "ponto = [\"\\n\", \"\\t\"]\n",
    "\n",
    "#criando uma lista\n",
    "limpeza = []\n",
    "\n",
    "for tweet in tw[\"Treinamento\"]:\n",
    "    x = ''\n",
    "    for palavra in tweet:\n",
    "        if palavra in ponto:\n",
    "            x += \" \"\n",
    "        elif palavra not in pontuacao:\n",
    "            x += palavra\n",
    "    limpeza.append(x)\n",
    "\n",
    "tw_sam =  pd.DataFrame()\n",
    "tw_sam['Treinamento'] = limpeza\n",
    "tw_sam['Classificador'] = tw['Classificador']\n",
    "\n",
    "tw_sam.head()\n",
    "\n"
   ]
  },
  {
   "cell_type": "code",
   "execution_count": 86,
   "metadata": {},
   "outputs": [],
   "source": [
    "relevante=tw_sam.loc[tw_sam.Classificador==1]\n",
    "#print(len(relevante))\n",
    "irrelevante=tw_sam.loc[tw_sam.Classificador==0]\n",
    "#print(len(irrelevante))\n",
    "j=relevante.Treinamento\n",
    "k=irrelevante.Treinamento"
   ]
  },
  {
   "cell_type": "markdown",
   "metadata": {},
   "source": [
    "### Elaboração das funções "
   ]
  },
  {
   "cell_type": "code",
   "execution_count": 87,
   "metadata": {},
   "outputs": [],
   "source": [
    "#anexando os tweets em uma lista\n",
    "def split(relevanciaT):\n",
    "    listapalavras=[]\n",
    "    for e in relevanciaT:\n",
    "        tweet=e.split()\n",
    "        for palavra in tweet:\n",
    "            listapalavras.append(palavra)\n",
    "    return listapalavras\n",
    "#print(split(j))\n",
    "\n"
   ]
  },
  {
   "cell_type": "code",
   "execution_count": 88,
   "metadata": {},
   "outputs": [],
   "source": [
    "#frequencia palavras\n",
    "def FP(tweetsplit):\n",
    "    y={}\n",
    "    for x in tweetsplit:\n",
    "        if x not in y:\n",
    "            y[x]=2\n",
    "        if x in y:\n",
    "            y[x]+=1\n",
    "    return y\n",
    "#print(FP(listarelev))"
   ]
  },
  {
   "cell_type": "markdown",
   "metadata": {},
   "source": [
    "aqui foi utilizada a condicao inicial 2 para aplicacao do smoothing de laplace, a parte referente as palavras nao identificadas sera aplicada somente no classificador"
   ]
  },
  {
   "cell_type": "code",
   "execution_count": 89,
   "metadata": {},
   "outputs": [],
   "source": [
    "def FRTW(y,relevancia):\n",
    "    frelattw={}\n",
    "    for x,z in y.items():\n",
    "        b=z/len(relevancia)\n",
    "        frelattw[x]=b\n",
    "    return frelattw\n",
    "#print(FRTW(y))\n",
    "\n",
    "#frequencia relativa por tweet"
   ]
  },
  {
   "cell_type": "code",
   "execution_count": 90,
   "metadata": {},
   "outputs": [],
   "source": [
    "#calcula a frequencia relativa das palavras com relacao ao todo das palavras\n",
    "def FRP(y,lpal):\n",
    "    frelatpal={}\n",
    "    for x,z in y.items():\n",
    "        b=z/(len(lpal)+len(y))\n",
    "        frelatpal[x]=b\n",
    "    return frelatpal\n",
    "#print(FRP(y,))\n",
    "\n"
   ]
  },
  {
   "cell_type": "markdown",
   "metadata": {},
   "source": [
    "#### Criação das variáveis"
   ]
  },
  {
   "cell_type": "markdown",
   "metadata": {},
   "source": [
    "* Relevante"
   ]
  },
  {
   "cell_type": "code",
   "execution_count": 91,
   "metadata": {},
   "outputs": [],
   "source": [
    "Rsplitado=split(j)\n",
    "Rcontagem=FP(Rsplitado)\n",
    "Rfrtw=FRTW(Rcontagem,relevante)#frequencia relativa das palavras em tweets relevantes\n",
    "Rfrp=FRP(Rcontagem,Rsplitado)"
   ]
  },
  {
   "cell_type": "markdown",
   "metadata": {},
   "source": [
    "* Irrelevante "
   ]
  },
  {
   "cell_type": "code",
   "execution_count": 92,
   "metadata": {},
   "outputs": [],
   "source": [
    "Isplitado=split(k)\n",
    "Icontagem=FP(Isplitado)\n",
    "Ifrtw=FRTW(Icontagem,irrelevante)#frequencia relativa das palavras em tweets irrelevantes\n",
    "Ifrp=FRP(Icontagem,Isplitado)\n"
   ]
  },
  {
   "cell_type": "markdown",
   "metadata": {},
   "source": [
    "### Classificação FRTW (Frequencia Relativa à Tweets)"
   ]
  },
  {
   "cell_type": "markdown",
   "metadata": {},
   "source": [
    "Apesar de a principio aparentar ser mais viável utilizar como referência para o classificador a frequência por tweet da palavra ao invés de sua frequência relativa com relação ao todo, nos deparamos com problemas com relação à influência que artigos estavam tendo no resultado final , uma vez que os mesmos estavam presentes na maioria dos relevantes, assim o impacto que os mesmos tinham no tweet ser relevante ou não acabava sendo imenso, com isso partimos para a opção seguinte, o FRP."
   ]
  },
  {
   "cell_type": "code",
   "execution_count": 93,
   "metadata": {},
   "outputs": [],
   "source": [
    "tweet='porra meu samsung nao para de travar pqp odeio essa bosta'"
   ]
  },
  {
   "cell_type": "code",
   "execution_count": 94,
   "metadata": {},
   "outputs": [],
   "source": [
    "def ClassificadorFRTW(tweet):\n",
    "    pontuacao = string.punctuation\n",
    "\n",
    "    ponto = [\"\\n\", \"\\t\"]\n",
    "\n",
    "    x = ''\n",
    "    for palavra in tweet:\n",
    "        if palavra in ponto:\n",
    "            x += \" \"\n",
    "        elif palavra not in pontuacao:\n",
    "            x += palavra\n",
    "    twsplit=x.split()\n",
    "    #print (x) # teste de espaço excessivo\n",
    "    #print(twsplit) # teste de espaço excessivo\n",
    "    total=0\n",
    "    irrelevancia=1\n",
    "    relevancia=1\n",
    "    nao_identificadasR=1\n",
    "    nao_identificadasI=1\n",
    "    resultado=0\n",
    "    for x in twsplit:\n",
    "        if x in Rfrtw:\n",
    "            relevancia*=Rfrtw[x]\n",
    "        elif x not in Ifrp:\n",
    "            nao_identificadasR*=1/len(Rfrp)+len(Ifrp)\n",
    "        print(x)\n",
    "        print ('relevancia:{0}'.format(relevancia))\n",
    "    for x in twsplit:\n",
    "        if x in Ifrtw:\n",
    "            irrelevancia*=Ifrtw[x]\n",
    "        elif x not in Rfrp:\n",
    "            nao_identificadasI*=1/len(Ifrp)+len(Isplitado)\n",
    "        print(x)\n",
    "        print ('irrelevancia:{0}'.format(irrelevancia))\n",
    "    total=((relevancia)*nao_identificadasR)-((irrelevancia)*nao_identificadasI)\n",
    "    print('total:{0}'.format(total))\n",
    "    if total>0:\n",
    "        resultado='relevante'\n",
    "    else:\n",
    "        resultado='irrelevante'\n",
    "    return resultado"
   ]
  },
  {
   "cell_type": "code",
   "execution_count": 95,
   "metadata": {},
   "outputs": [
    {
     "name": "stdout",
     "output_type": "stream",
     "text": [
      "porra\n",
      "relevancia:0.032\n",
      "meu\n",
      "relevancia:0.008192\n",
      "samsung\n",
      "relevancia:0.008781824\n",
      "nao\n",
      "relevancia:0.000491782144\n",
      "para\n",
      "relevancia:4.7211085824000006e-05\n",
      "de\n",
      "relevancia:2.3039009882112002e-05\n",
      "travar\n",
      "relevancia:5.52936237170688e-07\n",
      "pqp\n",
      "relevancia:5.52936237170688e-07\n",
      "odeio\n",
      "relevancia:2.211744948682752e-08\n",
      "essa\n",
      "relevancia:1.5924563630515814e-09\n",
      "bosta\n",
      "relevancia:6.369825452206325e-11\n",
      "porra\n",
      "irrelevancia:0.02857142857142857\n",
      "meu\n",
      "irrelevancia:0.003918367346938775\n",
      "samsung\n",
      "irrelevancia:0.004030320699708454\n",
      "nao\n",
      "irrelevancia:0.00011515201999167011\n",
      "para\n",
      "irrelevancia:8.554150056524066e-06\n",
      "de\n",
      "irrelevancia:3.1283748778145156e-06\n",
      "travar\n",
      "irrelevancia:3.1283748778145156e-06\n",
      "pqp\n",
      "irrelevancia:8.938213936612901e-08\n",
      "odeio\n",
      "irrelevancia:8.938213936612901e-08\n",
      "essa\n",
      "irrelevancia:3.064530492552995e-09\n",
      "bosta\n",
      "irrelevancia:3.064530492552995e-09\n",
      "total:-3.0008322380309316e-09\n"
     ]
    },
    {
     "data": {
      "text/plain": [
       "'irrelevante'"
      ]
     },
     "execution_count": 95,
     "metadata": {},
     "output_type": "execute_result"
    }
   ],
   "source": [
    "ClassificadorFRTW(tweet)"
   ]
  },
  {
   "cell_type": "markdown",
   "metadata": {},
   "source": [
    "O classificador acima apresenta alguns defeitos, pois ele classifica com base em tweets e não através das palavras. Assim, a palavra Samsung apresenta um elevado grau de relevância. Dessa forma iremos fazer um classificador de frequencia relativa em relação as palavras"
   ]
  },
  {
   "cell_type": "markdown",
   "metadata": {},
   "source": [
    "### Classificador FRP (Frequencia Relativa à Palavras) \n",
    "#### ( Classificador final)"
   ]
  },
  {
   "cell_type": "code",
   "execution_count": 96,
   "metadata": {},
   "outputs": [],
   "source": [
    "def ClassificadorFRP(tweet):\n",
    "    pontuacao = string.punctuation\n",
    "\n",
    "    ponto = [\"\\n\", \"\\t\"]\n",
    "\n",
    "    x = ''\n",
    "    for palavra in tweet:\n",
    "        if palavra in ponto:\n",
    "            x += \" \"\n",
    "        elif palavra not in pontuacao:\n",
    "            x += palavra\n",
    "    twsplit=x.split()\n",
    "    #print (x) # teste de espaço excessivo\n",
    "    #print(twsplit) # teste de espaço excessivo\n",
    "    total=0\n",
    "    irrelevancia=1\n",
    "    relevancia=1\n",
    "    resultado=0\n",
    "    nao_identificadasR=1\n",
    "    nao_identificadasI=1\n",
    "    for x in twsplit:\n",
    "        if x in Rfrp:\n",
    "            relevancia*=Rfrp[x]\n",
    "            #print(x)\n",
    "            #print ('relevancia:{0}'.format(relevancia))\n",
    "        else:\n",
    "            nao_identificadasR*=1/(len(Rfrp)+len(Rsplitado))\n",
    "    for x in twsplit:\n",
    "        if x in Ifrp:\n",
    "            irrelevancia*=Ifrp[x]\n",
    "            #print(x)\n",
    "            #print ('irrelevancia:{0}'.format(irrelevancia))\n",
    "        else:\n",
    "            nao_identificadasI*=1/(len(Ifrp)+len(Isplitado))\n",
    "\n",
    "\n",
    "    total=((relevancia)*nao_identificadasR)-((irrelevancia)*nao_identificadasI)\n",
    "    \n",
    "    #print('total:{0}'.format(total))\n",
    "    if total>0:\n",
    "        resultado='relevante'\n",
    "    else:\n",
    "        resultado='irrelevante'\n",
    "    return resultado\n",
    "        "
   ]
  },
  {
   "cell_type": "code",
   "execution_count": 97,
   "metadata": {},
   "outputs": [
    {
     "data": {
      "text/plain": [
       "'relevante'"
      ]
     },
     "execution_count": 97,
     "metadata": {},
     "output_type": "execute_result"
    }
   ],
   "source": [
    "ClassificadorFRP(tweet)"
   ]
  },
  {
   "cell_type": "markdown",
   "metadata": {},
   "source": [
    "## Teste"
   ]
  },
  {
   "cell_type": "markdown",
   "metadata": {},
   "source": [
    "#### Legenda\n",
    "* 0 = Irrelevante\n",
    "* 1 = Relevante"
   ]
  },
  {
   "cell_type": "code",
   "execution_count": 98,
   "metadata": {},
   "outputs": [],
   "source": [
    "teste = pd.read_excel(\"Samsung.xlsx\", sheet_name=\"Teste\")"
   ]
  },
  {
   "cell_type": "code",
   "execution_count": 99,
   "metadata": {},
   "outputs": [],
   "source": [
    "teste[\"performance\"]=0 \n",
    "def performace(df):\n",
    "    for i in range(len(df)):\n",
    "        df.loc[i, \"performance\"] =ClassificadorFRP (df.Teste[i])\n",
    "\n",
    "    return df"
   ]
  },
  {
   "cell_type": "code",
   "execution_count": 125,
   "metadata": {},
   "outputs": [
    {
     "data": {
      "text/html": [
       "<div>\n",
       "<style scoped>\n",
       "    .dataframe tbody tr th:only-of-type {\n",
       "        vertical-align: middle;\n",
       "    }\n",
       "\n",
       "    .dataframe tbody tr th {\n",
       "        vertical-align: top;\n",
       "    }\n",
       "\n",
       "    .dataframe thead th {\n",
       "        text-align: right;\n",
       "    }\n",
       "</style>\n",
       "<table border=\"1\" class=\"dataframe\">\n",
       "  <thead>\n",
       "    <tr style=\"text-align: right;\">\n",
       "      <th></th>\n",
       "      <th>Teste</th>\n",
       "      <th>classificador</th>\n",
       "      <th>performance</th>\n",
       "    </tr>\n",
       "  </thead>\n",
       "  <tbody>\n",
       "    <tr>\n",
       "      <th>0</th>\n",
       "      <td>@makulovers @bnetoachaga eu só nao desisto da ...</td>\n",
       "      <td>1</td>\n",
       "      <td>relevante</td>\n",
       "    </tr>\n",
       "    <tr>\n",
       "      <th>1</th>\n",
       "      <td>queria ser rico pra ter essa televisão torta d...</td>\n",
       "      <td>1</td>\n",
       "      <td>relevante</td>\n",
       "    </tr>\n",
       "    <tr>\n",
       "      <th>2</th>\n",
       "      <td>@sl_ianzz19 mas esse fone é do camelô mano foi...</td>\n",
       "      <td>1</td>\n",
       "      <td>relevante</td>\n",
       "    </tr>\n",
       "    <tr>\n",
       "      <th>3</th>\n",
       "      <td>@eduardasilva772 até o samsung kkkkk</td>\n",
       "      <td>0</td>\n",
       "      <td>relevante</td>\n",
       "    </tr>\n",
       "    <tr>\n",
       "      <th>4</th>\n",
       "      <td>@anotterme eu nem sabia que dava pra fazer hah...</td>\n",
       "      <td>0</td>\n",
       "      <td>relevante</td>\n",
       "    </tr>\n",
       "  </tbody>\n",
       "</table>\n",
       "</div>"
      ],
      "text/plain": [
       "                                               Teste  classificador  \\\n",
       "0  @makulovers @bnetoachaga eu só nao desisto da ...              1   \n",
       "1  queria ser rico pra ter essa televisão torta d...              1   \n",
       "2  @sl_ianzz19 mas esse fone é do camelô mano foi...              1   \n",
       "3               @eduardasilva772 até o samsung kkkkk              0   \n",
       "4  @anotterme eu nem sabia que dava pra fazer hah...              0   \n",
       "\n",
       "  performance  \n",
       "0   relevante  \n",
       "1   relevante  \n",
       "2   relevante  \n",
       "3   relevante  \n",
       "4   relevante  "
      ]
     },
     "execution_count": 125,
     "metadata": {},
     "output_type": "execute_result"
    }
   ],
   "source": [
    "performace(teste).head()\n"
   ]
  },
  {
   "cell_type": "code",
   "execution_count": 114,
   "metadata": {},
   "outputs": [],
   "source": [
    "def verificando_performace(df):\n",
    "    relevante_verdadeiro=0\n",
    "    relevante_falso=0\n",
    "    irrelevante_verdadeiro=0\n",
    "    irrelevante_falso=0\n",
    "    \n",
    "    \n",
    "    for i in range(len(df)):\n",
    "        if (df.loc[i, \"performance\"] == \"relevante\" and df.loc[i, \"classificador\"]):\n",
    "            relevante_verdadeiro += 1\n",
    "        elif (df.loc[i, \"performance\"] == \"relevante\" and df.loc[i, \"classificador\"] != 1):\n",
    "            relevante_falso += 1\n",
    "        if (df.loc[i, \"performance\"] == \"irrelevante\" and df.loc[i, \"classificador\"] == 0):\n",
    "            irrelevante_verdadeiro+= 1\n",
    "        elif (df.loc[i, \"performance\"] == \"irrelevante\" and df.loc[i, \"classificador\"] != 0):\n",
    "            irrelevante_falso+= 1\n",
    "    \n",
    "    \n",
    "    print(\"porcentagem de relevante verdadeiro: {}%\".format((relevante_verdadeiro/200)*100)) \n",
    "    print(\"porcentagem de relevante falso: {}%\".format((relevante_falso/200)*100)) \n",
    "    print(\"porcentagem de irrelevante verdadeiro: {}%\".format((irrelevante_verdadeiro/200)*100))  \n",
    "    print(\"porcentagem de irrelevante falso: {}%\".format((irrelevante_falso/200)*100))\n",
    "    var_array = [relevante_verdadeiro, relevante_falso, irrelevante_verdadeiro, irrelevante_falso]\n",
    "    print(sum(var_array) / 200)\n",
    "    \n",
    "    "
   ]
  },
  {
   "cell_type": "code",
   "execution_count": 115,
   "metadata": {},
   "outputs": [
    {
     "name": "stdout",
     "output_type": "stream",
     "text": [
      "porcentagem de relevante verdadeiro: 32.0%\n",
      "porcentagem de relevante falso: 49.5%\n",
      "porcentagem de irrelevante verdadeiro: 14.000000000000002%\n",
      "porcentagem de irrelevante falso: 4.5%\n",
      "1.0\n"
     ]
    }
   ],
   "source": [
    "verificando_performace(teste)"
   ]
  },
  {
   "cell_type": "markdown",
   "metadata": {},
   "source": [
    "# Proposta de melhoria"
   ]
  },
  {
   "cell_type": "markdown",
   "metadata": {},
   "source": [
    "Com base na finalização do projeto, observamos que a precisão do algoritimo criado teve sua eficiência razoável, visto que obteve uma média de quase 50% de acertos. Uma das possíveis causas pode estar relacionado ao método de aprendizagem do algoritimo, visto que a classificação foi feita por duas pessoas diferentes, embora tenhamos feito chegado a um acordo a respeito de alguns tweets duvidosos a respeito de sua relevância, é possível que muitos deles tenham criado dúvida no algoritimo na hora de classificar.\n",
    "\n",
    "Outro ponto que poderia ser melhorado a fim de conseguir uma maior precisão do resultado de relevância, seria aumentar o banco de dados, e garantir um treinamento eficiente. Além disso, poderia aumentar o classificador para três ou quatro categorias, a fim de se obter uma menor generalização de relevância, ex: \"pouco relevante, muito relevante, irrelevante\".\n",
    "\n"
   ]
  },
  {
   "cell_type": "markdown",
   "metadata": {},
   "source": [
    "# Por que não usar o Treinamento para validação?"
   ]
  },
  {
   "cell_type": "markdown",
   "metadata": {},
   "source": [
    "A utilização do grupo de treinamento também como grupo de validação não corresponde como o classificador atuaria em uma situação com um novo tweet. Utilizando-o no grupo de treinamento todas as palavras da frase teriam um valor atribuído a elas , uma situação utópica, e o resultado esperado deveria ser uma precisão também muito acima do que como o classificador realmente atuaria em ação.\n"
   ]
  },
  {
   "cell_type": "markdown",
   "metadata": {},
   "source": [
    "# Naive bayes"
   ]
  },
  {
   "cell_type": "markdown",
   "metadata": {},
   "source": [
    "O Naive Bayes é um classificador probabilístico muito utilizado em machine learning. Baseado no “Teorema de Bayes”, o modelo foi criado por um matemático inglês. Entre suas possibilidades de aplicações temos classificação de um e-mail como SPAM ou Não-SPAM.\n",
    "\n",
    "Alem disso, este teorema é frequentemente aplicado em processamento de linguagem natural e diagnósticos médicos, o método pode ser usado quando os atributos que descrevem as instâncias forem condicionalmente independentes. Isto é, qual a probabilidade de o evento A ocorrer, dado o evento B."
   ]
  },
  {
   "cell_type": "code",
   "execution_count": null,
   "metadata": {},
   "outputs": [],
   "source": []
  },
  {
   "cell_type": "code",
   "execution_count": null,
   "metadata": {},
   "outputs": [],
   "source": []
  }
 ],
 "metadata": {
  "kernelspec": {
   "display_name": "Python 3",
   "language": "python",
   "name": "python3"
  },
  "language_info": {
   "codemirror_mode": {
    "name": "ipython",
    "version": 3
   },
   "file_extension": ".py",
   "mimetype": "text/x-python",
   "name": "python",
   "nbconvert_exporter": "python",
   "pygments_lexer": "ipython3",
   "version": "3.7.1"
  }
 },
 "nbformat": 4,
 "nbformat_minor": 2
}
